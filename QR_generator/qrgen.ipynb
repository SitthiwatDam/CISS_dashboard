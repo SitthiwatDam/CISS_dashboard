{
 "cells": [
  {
   "cell_type": "code",
   "execution_count": 1,
   "metadata": {},
   "outputs": [],
   "source": [
    "import qrcode"
   ]
  },
  {
   "cell_type": "code",
   "execution_count": 2,
   "metadata": {},
   "outputs": [],
   "source": [
    "# Function to generate QR code from URL\n",
    "def generate_qr_code(url, file_name):\n",
    "    # Create a QR code instance\n",
    "    qr = qrcode.QRCode(\n",
    "        version=1,  # controls the size of the QR code\n",
    "        error_correction=qrcode.constants.ERROR_CORRECT_L,  # about 7% error correction\n",
    "        box_size=10,  # size of each box in pixels\n",
    "        border=4,  # border around the QR code\n",
    "    )\n",
    "\n",
    "    # Add the URL data to the QR code\n",
    "    qr.add_data(url)\n",
    "    qr.make(fit=True)\n",
    "\n",
    "    # Create an image from the QR code\n",
    "    img = qr.make_image(fill=\"black\", back_color=\"white\")\n",
    "\n",
    "    # Save the generated QR code to a file\n",
    "    img.save(file_name)\n",
    "    print(f\"QR code saved as {file_name}\")"
   ]
  },
  {
   "cell_type": "code",
   "execution_count": 3,
   "metadata": {},
   "outputs": [
    {
     "name": "stdout",
     "output_type": "stream",
     "text": [
      "QR code saved as qrcode.png\n"
     ]
    }
   ],
   "source": [
    "# Example usage\n",
    "url = \"https://learn.microsoft.com/en-us/rest/api/power-bi/reports/get-report-in-group#code-try-0\"  # Replace with your desired URL\n",
    "file_name = \"qrcode.png\"\n",
    "generate_qr_code(url, file_name)"
   ]
  }
 ],
 "metadata": {
  "kernelspec": {
   "display_name": "Python 3",
   "language": "python",
   "name": "python3"
  },
  "language_info": {
   "codemirror_mode": {
    "name": "ipython",
    "version": 3
   },
   "file_extension": ".py",
   "mimetype": "text/x-python",
   "name": "python",
   "nbconvert_exporter": "python",
   "pygments_lexer": "ipython3",
   "version": "3.10.11"
  }
 },
 "nbformat": 4,
 "nbformat_minor": 2
}
